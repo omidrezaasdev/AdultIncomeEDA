{
  "nbformat": 4,
  "nbformat_minor": 0,
  "metadata": {
    "colab": {
      "provenance": [],
      "authorship_tag": "ABX9TyPnEhKpFH/4zAKMRVES2iEZ",
      "include_colab_link": true
    },
    "kernelspec": {
      "name": "python3",
      "display_name": "Python 3"
    },
    "language_info": {
      "name": "python"
    }
  },
  "cells": [
    {
      "cell_type": "markdown",
      "metadata": {
        "id": "view-in-github",
        "colab_type": "text"
      },
      "source": [
        "<a href=\"https://colab.research.google.com/github/omidrezaasdev/AdultIncomeEDA/blob/main/adoultIncomeEDA.ipynb\" target=\"_parent\"><img src=\"https://colab.research.google.com/assets/colab-badge.svg\" alt=\"Open In Colab\"/></a>"
      ]
    },
    {
      "cell_type": "code",
      "source": [
        "from google.colab import drive\n",
        "drive.mount('/content/drive')"
      ],
      "metadata": {
        "colab": {
          "base_uri": "https://localhost:8080/",
          "height": 0
        },
        "id": "mYKvcFnOcxmI",
        "outputId": "d7d04c0f-d16e-4da6-94b4-7cb765f793b7"
      },
      "execution_count": 1,
      "outputs": [
        {
          "output_type": "stream",
          "name": "stdout",
          "text": [
            "Mounted at /content/drive\n"
          ]
        }
      ]
    },
    {
      "cell_type": "markdown",
      "source": [
        "## 1. Data Structure and Information\n"
      ],
      "metadata": {
        "id": "IAYOFcb7oxsJ"
      }
    },
    {
      "cell_type": "code",
      "source": [
        "import numpy as np\n",
        "import pandas as pd\n",
        "import os\n",
        "import matplotlib.pyplot as plt\n",
        "import seaborn as sns\n",
        "\n",
        "adult_file_path = '/content/drive/MyDrive/Colab Notebooks/Project/adultIncomeEDA/adult.csv'\n",
        "\n",
        "df_adult = pd.read_csv(adult_file_path)\n",
        "df_adult.columns = df_adult.columns.str.strip()\n",
        "\n",
        "print(df_adult.head())\n",
        "print(df_adult.info())\n",
        "print(df_adult.describe())"
      ],
      "metadata": {
        "id": "SGoQJGaKcyUz"
      },
      "execution_count": null,
      "outputs": []
    },
    {
      "cell_type": "code",
      "source": [
        "# Check for missing values count and percentage\n",
        "missing_data_adult = df_adult.isnull().sum()\n",
        "missing_data_adult = missing_data_adult[missing_data_adult > 0]\n",
        "missing_percentage_adult = (missing_data_adult / len(df_adult)) * 100\n",
        "\n",
        "missing_df_adult = pd.DataFrame({\n",
        "    'Missing Count': missing_data_adult,\n",
        "    'Missing Percentage': missing_percentage_adult\n",
        "}).sort_values(by='Missing Percentage', ascending=False)\n",
        "\n",
        "print(missing_df_adult)\n"
      ],
      "metadata": {
        "id": "9-EljsZddICz"
      },
      "execution_count": null,
      "outputs": []
    },
    {
      "cell_type": "markdown",
      "source": [
        "1. Overall Data Structure and Information\n",
        "The df_adult.head() output shows initial rows with diverse data types. df_adult.info() reveals approximately 48,842 entries and 15 columns, with object types for categorical data and int64/float64 for numerical. df_adult.describe() provides statistics for numerical columns like age and hours-per-week. The missing values summary (from df_adult.isnull().sum()) indicates some columns (e.g., workclass, occupation, native-country) have missing values, often represented as '?' in this dataset."
      ],
      "metadata": {
        "id": "K37z8oP-pTxd"
      }
    },
    {
      "cell_type": "markdown",
      "source": [
        "## 2. Examining the Target Variable\n"
      ],
      "metadata": {
        "id": "N9HPMi_VhNiX"
      }
    },
    {
      "cell_type": "code",
      "source": [
        "print(df_adult['income'].value_counts())\n",
        "\n",
        "plt.figure(figsize=(8, 5))\n",
        "sns.countplot(data=df_adult, x='income', order=df_adult['income'].value_counts().index)\n",
        "plt.title('Distribution of Income Levels')\n",
        "plt.xlabel('Income Level')\n",
        "plt.ylabel('Count')\n",
        "plt.show()"
      ],
      "metadata": {
        "id": "c7NFntNZhT_Y"
      },
      "execution_count": null,
      "outputs": []
    },
    {
      "cell_type": "markdown",
      "source": [
        "df_adult['income'].value_counts() shows a significant class imbalance, with the <=50K category having a much higher count than >50K. The bar chart visually confirms this imbalance, illustrating that the majority of individuals in the dataset earn less than or equal to $50,000 annually."
      ],
      "metadata": {
        "id": "AsTF8JuBpYtc"
      }
    },
    {
      "cell_type": "markdown",
      "source": [
        "## 3. Numerical Variables\n",
        "\n"
      ],
      "metadata": {
        "id": "F4LuH6zLj1xF"
      }
    },
    {
      "cell_type": "code",
      "source": [
        "# 'fnlwgt' is a statistical weight and not a direct feature for modeling\n",
        "numerical_cols = df_adult.select_dtypes(include=np.number).columns.tolist()\n",
        "if 'fnlwgt' in numerical_cols:\n",
        "    numerical_cols.remove('fnlwgt')\n",
        "\n",
        "# Select a few key numerical features for individual visualization\n",
        "selected_numerical_for_plot = [\n",
        "    'age',\n",
        "    'education.num',\n",
        "    'hours.per.week',\n",
        "    'capital.gain', # Income from capital gains\n",
        "    'capital.loss'  # Losses from capital investments\n",
        "]\n",
        "\n",
        "# Plot Histogram with KDE and Boxplot for each selected numerical column\n",
        "for col in selected_numerical_for_plot:\n",
        "    print(f\"\\n--- Processing column: {col} ---\")\n",
        "\n",
        "    # Plot Histogram with KDE\n",
        "    plt.figure(figsize=(10, 5))\n",
        "    sns.histplot(df_adult[col], kde=True, bins=30)\n",
        "    plt.title(f'Distribution of {col}')\n",
        "    plt.xlabel(col)\n",
        "    plt.ylabel('Frequency / Density')\n",
        "    plt.grid(axis='y', alpha=0.75)\n",
        "    plt.show()\n",
        "\n",
        "    # Plot Boxplot\n",
        "    plt.figure(figsize=(8, 4))\n",
        "    sns.boxplot(y=df_adult[col])\n",
        "    plt.title(f'Boxplot of {col}')\n",
        "    plt.ylabel(col)\n",
        "    plt.grid(axis='y', alpha=0.75)\n",
        "    plt.show()"
      ],
      "metadata": {
        "id": "FGmgkN5wghl-"
      },
      "execution_count": null,
      "outputs": []
    },
    {
      "cell_type": "markdown",
      "source": [
        "Histograms and boxplots for age, education-num, and hours-per-week reveal their distributions. age typically shows a right-skew, while education-num might have multiple peaks. capital-gain and capital-loss exhibit extreme right-skewness and many outliers, as most values are zero, visible in their boxplots."
      ],
      "metadata": {
        "id": "a6s46eBcpcoG"
      }
    },
    {
      "cell_type": "markdown",
      "source": [
        "## 4. Categorical Variables\n"
      ],
      "metadata": {
        "id": "ILNhXBqqj6kX"
      }
    },
    {
      "cell_type": "code",
      "source": [
        "categorical_cols = df_adult.select_dtypes(include='object').columns.tolist()\n",
        "if 'income' in categorical_cols:\n",
        "    categorical_cols.remove('income')\n",
        "\n",
        "\n",
        "selected_categorical_for_plot = [\n",
        "    'workclass',        # Type of employer\n",
        "    'education',        # Highest level of education achieved\n",
        "    'marital.status',   # Marital status\n",
        "    'occupation',       # Occupation category\n",
        "    'sex'               # Gender\n",
        "]\n",
        "\n",
        "# Plot Bar Charts for frequencies of each selected categorical column\n",
        "for col in selected_categorical_for_plot:\n",
        "    print(f\"\\n--- Processing column: {col} ---\")\n",
        "\n",
        "    print(df_adult[col].value_counts())\n",
        "\n",
        "    # Plot Bar Chart for frequencies using Seaborn.\n",
        "    plt.figure(figsize=(10, 6))\n",
        "    sns.countplot(data=df_adult, x=col, order=df_adult[col].value_counts().index)\n",
        "    plt.title(f'Frequency of {col}')\n",
        "    plt.xlabel(col)\n",
        "    plt.ylabel('Count')\n",
        "    plt.xticks(rotation=45, ha='right')\n",
        "    plt.tight_layout()\n",
        "    plt.show()\n"
      ],
      "metadata": {
        "id": "umjbYDdtj7nm"
      },
      "execution_count": null,
      "outputs": []
    },
    {
      "cell_type": "markdown",
      "source": [
        "df_adult[col].value_counts() outputs frequency tables for selected categorical columns like workclass and education. Bar charts visually represent these frequencies, showing the most common categories (e.g., 'Private' for workclass, 'HS-grad' for education). This helps identify dominant groups and potential data quality issues like '?' values if not handled."
      ],
      "metadata": {
        "id": "n34KHovLphXF"
      }
    },
    {
      "cell_type": "markdown",
      "source": [
        "## 5. Correlation Between Numerical Variables\n"
      ],
      "metadata": {
        "id": "v6bkcuaall2t"
      }
    },
    {
      "cell_type": "code",
      "source": [
        "numerical_cols_for_corr = df_adult.select_dtypes(include=np.number).columns.tolist()\n",
        "if 'fnlwgt' in numerical_cols_for_corr:\n",
        "    numerical_cols_for_corr.remove('fnlwgt')\n",
        "\n",
        "correlation_matrix = df_adult[numerical_cols_for_corr].corr()\n",
        "\n",
        "# Plot a heatmap of the correlation matrix for better visualization\n",
        "plt.figure(figsize=(10, 8))\n",
        "sns.heatmap(correlation_matrix, annot=True, cmap='coolwarm', fmt=\".2f\", linewidths=.5)\n",
        "plt.title('Correlation Matrix of Numerical Variables (Adult Income)')\n",
        "plt.show()\n",
        "\n",
        "# Instead, we will look at correlations between numerical features themselves\n",
        "plt.figure(figsize=(8, 6))\n",
        "sns.scatterplot(data=df_adult, x='age', y='hours.per.week')\n",
        "plt.title('Age vs. Hours.per.Week')\n",
        "plt.xlabel('Age')\n",
        "plt.ylabel('Hours.per.Week')\n",
        "plt.grid(True, linestyle='--', alpha=0.6)\n",
        "plt.show()\n",
        "\n",
        "plt.figure(figsize=(8, 7))\n",
        "sns.jointplot(data=df_adult, x='age', y='hours.per.week', kind='hex', height=7, cmap='viridis')\n",
        "plt.suptitle('Hexagonal Binning: Age vs. Hours.per.Week', y=1.02)\n",
        "plt.show()\n"
      ],
      "metadata": {
        "id": "81Mob5z8lpOS"
      },
      "execution_count": null,
      "outputs": []
    },
    {
      "cell_type": "markdown",
      "source": [
        "The heatmap of the correlation matrix for numerical features (e.g., age, education-num, hours-per-week) shows their linear relationships. While no extremely strong correlations are typically observed among these, education-num and age might show a weak positive correlation. Scatterplots like age vs. hours-per-week visually confirm these relationships and reveal data density."
      ],
      "metadata": {
        "id": "1ezQIFiWplNO"
      }
    },
    {
      "cell_type": "markdown",
      "source": [
        "## 6.  Relationship Between Categorical Variables and Income\n"
      ],
      "metadata": {
        "id": "G3wbuE9Pm3X4"
      }
    },
    {
      "cell_type": "code",
      "source": [
        "categorical_cols_for_rel = df_adult.select_dtypes(include='object').columns.tolist()\n",
        "if 'income' in categorical_cols_for_rel:\n",
        "    categorical_cols_for_rel.remove('income')\n",
        "\n",
        "selected_categorical_for_plot_vs_target = [\n",
        "    'workclass',        # Type of employer\n",
        "    'education',        # Highest level of education achieved\n",
        "    'marital.status',   # Marital status\n",
        "    'occupation',       # Occupation category\n",
        "    'sex',              # Gender\n",
        "    'race'              # Race\n",
        "]\n",
        "\n",
        "for col in selected_categorical_for_plot_vs_target:\n",
        "    print(f\"\\n--- Processing relationship for: {col} vs Income ---\")\n",
        "\n",
        "    # Create a cross-tabulation (contingency table) of the categorical feature and income.\n",
        "    ct = pd.crosstab(df_adult[col], df_adult['income'], normalize='index') * 100\n",
        "    print(ct)\n",
        "\n",
        "    # Plotting the stacked bar chart\n",
        "    plt.figure(figsize=(12, 7))\n",
        "    ct.plot(kind='bar', stacked=True, ax=plt.gca(), cmap='viridis')\n",
        "    plt.title(f'Income Distribution by {col}')\n",
        "    plt.xlabel(col)\n",
        "    plt.ylabel('Percentage')\n",
        "    plt.xticks(rotation=45, ha='right')\n",
        "    plt.legend(title='Income Level')\n",
        "    plt.tight_layout()\n",
        "    plt.show()\n"
      ],
      "metadata": {
        "id": "C1RhkVp-mkhu"
      },
      "execution_count": null,
      "outputs": []
    },
    {
      "cell_type": "markdown",
      "source": [
        "Stacked bar charts, generated from pd.crosstab(df_adult[col], df_adult['income'], normalize='index'), effectively show the proportion of income levels within each category of features like education, occupation, and sex. For instance, these plots clearly demonstrate that individuals with higher education levels or certain occupation types (e.g., 'Exec-managerial', 'Prof-specialty') have a significantly higher percentage of >50K income. The sex plot typically shows a higher proportion of >50K income for males compared to females."
      ],
      "metadata": {
        "id": "uQFp1bQYpoYF"
      }
    }
  ]
}